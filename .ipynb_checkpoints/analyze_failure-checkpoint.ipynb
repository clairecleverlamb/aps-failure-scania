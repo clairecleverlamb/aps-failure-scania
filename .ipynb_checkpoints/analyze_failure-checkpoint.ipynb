{
 "cells": [
  {
   "cell_type": "markdown",
   "id": "5a3b6ec8-db96-4bf3-ba4a-2dba35eebdf5",
   "metadata": {},
   "source": [
    "<h1>Analyze Failure Cost"
   ]
  },
  {
   "cell_type": "code",
   "execution_count": 1,
   "id": "7347a804-321e-4402-9ce6-873710192ade",
   "metadata": {},
   "outputs": [],
   "source": [
    "import pandas as pd\n",
    "import numpy as np\n",
    "from sklearn.linear_model import LogisticRegression\n",
    "from sklearn.ensemble import RandomForestClassifier\n",
    "from sklearn.metrics import classification_report, confusion_matrix\n",
    "import matplotlib.pyplot as plt\n",
    "import seaborn as sns"
   ]
  },
  {
   "cell_type": "code",
   "execution_count": 2,
   "id": "08b3f04e-6915-46ed-a7e0-202bd7ca0eff",
   "metadata": {},
   "outputs": [
    {
     "name": "stdout",
     "output_type": "stream",
     "text": [
      "Training data shape: (60000, 171)\n",
      "Test data shape: (16000, 171)\n"
     ]
    },
    {
     "data": {
      "text/html": [
       "<div>\n",
       "<style scoped>\n",
       "    .dataframe tbody tr th:only-of-type {\n",
       "        vertical-align: middle;\n",
       "    }\n",
       "\n",
       "    .dataframe tbody tr th {\n",
       "        vertical-align: top;\n",
       "    }\n",
       "\n",
       "    .dataframe thead th {\n",
       "        text-align: right;\n",
       "    }\n",
       "</style>\n",
       "<table border=\"1\" class=\"dataframe\">\n",
       "  <thead>\n",
       "    <tr style=\"text-align: right;\">\n",
       "      <th></th>\n",
       "      <th>class</th>\n",
       "      <th>aa_000</th>\n",
       "      <th>ab_000</th>\n",
       "      <th>ac_000</th>\n",
       "      <th>ad_000</th>\n",
       "      <th>ae_000</th>\n",
       "      <th>af_000</th>\n",
       "      <th>ag_000</th>\n",
       "      <th>ag_001</th>\n",
       "      <th>ag_002</th>\n",
       "      <th>...</th>\n",
       "      <th>ee_002</th>\n",
       "      <th>ee_003</th>\n",
       "      <th>ee_004</th>\n",
       "      <th>ee_005</th>\n",
       "      <th>ee_006</th>\n",
       "      <th>ee_007</th>\n",
       "      <th>ee_008</th>\n",
       "      <th>ee_009</th>\n",
       "      <th>ef_000</th>\n",
       "      <th>eg_000</th>\n",
       "    </tr>\n",
       "  </thead>\n",
       "  <tbody>\n",
       "    <tr>\n",
       "      <th>0</th>\n",
       "      <td>neg</td>\n",
       "      <td>76698</td>\n",
       "      <td>na</td>\n",
       "      <td>2130706438</td>\n",
       "      <td>280</td>\n",
       "      <td>0</td>\n",
       "      <td>0</td>\n",
       "      <td>0</td>\n",
       "      <td>0</td>\n",
       "      <td>0</td>\n",
       "      <td>...</td>\n",
       "      <td>1240520</td>\n",
       "      <td>493384</td>\n",
       "      <td>721044</td>\n",
       "      <td>469792</td>\n",
       "      <td>339156</td>\n",
       "      <td>157956</td>\n",
       "      <td>73224</td>\n",
       "      <td>0</td>\n",
       "      <td>0</td>\n",
       "      <td>0</td>\n",
       "    </tr>\n",
       "    <tr>\n",
       "      <th>1</th>\n",
       "      <td>neg</td>\n",
       "      <td>33058</td>\n",
       "      <td>na</td>\n",
       "      <td>0</td>\n",
       "      <td>na</td>\n",
       "      <td>0</td>\n",
       "      <td>0</td>\n",
       "      <td>0</td>\n",
       "      <td>0</td>\n",
       "      <td>0</td>\n",
       "      <td>...</td>\n",
       "      <td>421400</td>\n",
       "      <td>178064</td>\n",
       "      <td>293306</td>\n",
       "      <td>245416</td>\n",
       "      <td>133654</td>\n",
       "      <td>81140</td>\n",
       "      <td>97576</td>\n",
       "      <td>1500</td>\n",
       "      <td>0</td>\n",
       "      <td>0</td>\n",
       "    </tr>\n",
       "    <tr>\n",
       "      <th>2</th>\n",
       "      <td>neg</td>\n",
       "      <td>41040</td>\n",
       "      <td>na</td>\n",
       "      <td>228</td>\n",
       "      <td>100</td>\n",
       "      <td>0</td>\n",
       "      <td>0</td>\n",
       "      <td>0</td>\n",
       "      <td>0</td>\n",
       "      <td>0</td>\n",
       "      <td>...</td>\n",
       "      <td>277378</td>\n",
       "      <td>159812</td>\n",
       "      <td>423992</td>\n",
       "      <td>409564</td>\n",
       "      <td>320746</td>\n",
       "      <td>158022</td>\n",
       "      <td>95128</td>\n",
       "      <td>514</td>\n",
       "      <td>0</td>\n",
       "      <td>0</td>\n",
       "    </tr>\n",
       "    <tr>\n",
       "      <th>3</th>\n",
       "      <td>neg</td>\n",
       "      <td>12</td>\n",
       "      <td>0</td>\n",
       "      <td>70</td>\n",
       "      <td>66</td>\n",
       "      <td>0</td>\n",
       "      <td>10</td>\n",
       "      <td>0</td>\n",
       "      <td>0</td>\n",
       "      <td>0</td>\n",
       "      <td>...</td>\n",
       "      <td>240</td>\n",
       "      <td>46</td>\n",
       "      <td>58</td>\n",
       "      <td>44</td>\n",
       "      <td>10</td>\n",
       "      <td>0</td>\n",
       "      <td>0</td>\n",
       "      <td>0</td>\n",
       "      <td>4</td>\n",
       "      <td>32</td>\n",
       "    </tr>\n",
       "    <tr>\n",
       "      <th>4</th>\n",
       "      <td>neg</td>\n",
       "      <td>60874</td>\n",
       "      <td>na</td>\n",
       "      <td>1368</td>\n",
       "      <td>458</td>\n",
       "      <td>0</td>\n",
       "      <td>0</td>\n",
       "      <td>0</td>\n",
       "      <td>0</td>\n",
       "      <td>0</td>\n",
       "      <td>...</td>\n",
       "      <td>622012</td>\n",
       "      <td>229790</td>\n",
       "      <td>405298</td>\n",
       "      <td>347188</td>\n",
       "      <td>286954</td>\n",
       "      <td>311560</td>\n",
       "      <td>433954</td>\n",
       "      <td>1218</td>\n",
       "      <td>0</td>\n",
       "      <td>0</td>\n",
       "    </tr>\n",
       "  </tbody>\n",
       "</table>\n",
       "<p>5 rows × 171 columns</p>\n",
       "</div>"
      ],
      "text/plain": [
       "  class  aa_000 ab_000      ac_000 ad_000 ae_000 af_000 ag_000 ag_001 ag_002  \\\n",
       "0   neg   76698     na  2130706438    280      0      0      0      0      0   \n",
       "1   neg   33058     na           0     na      0      0      0      0      0   \n",
       "2   neg   41040     na         228    100      0      0      0      0      0   \n",
       "3   neg      12      0          70     66      0     10      0      0      0   \n",
       "4   neg   60874     na        1368    458      0      0      0      0      0   \n",
       "\n",
       "   ...   ee_002  ee_003  ee_004  ee_005  ee_006  ee_007  ee_008 ee_009 ef_000  \\\n",
       "0  ...  1240520  493384  721044  469792  339156  157956   73224      0      0   \n",
       "1  ...   421400  178064  293306  245416  133654   81140   97576   1500      0   \n",
       "2  ...   277378  159812  423992  409564  320746  158022   95128    514      0   \n",
       "3  ...      240      46      58      44      10       0       0      0      4   \n",
       "4  ...   622012  229790  405298  347188  286954  311560  433954   1218      0   \n",
       "\n",
       "  eg_000  \n",
       "0      0  \n",
       "1      0  \n",
       "2      0  \n",
       "3     32  \n",
       "4      0  \n",
       "\n",
       "[5 rows x 171 columns]"
      ]
     },
     "execution_count": 2,
     "metadata": {},
     "output_type": "execute_result"
    }
   ],
   "source": [
    "train_df = pd.read_csv('aps_failure_training_set.csv', skiprows=20)\n",
    "test_df = pd.read_csv('aps_failure_test_set.csv', skiprows=20)\n",
    "\n",
    "print(f\"Training data shape: {train_df.shape}\")\n",
    "print(f\"Test data shape: {test_df.shape}\")\n",
    "train_df.head()"
   ]
  },
  {
   "cell_type": "markdown",
   "id": "9fec4a4c-2005-4456-9085-544282ec3eb4",
   "metadata": {},
   "source": [
    "<h2>Data Cleaning"
   ]
  },
  {
   "cell_type": "code",
   "execution_count": 3,
   "id": "3fd91826-d211-43d4-87ce-17b9d51fa841",
   "metadata": {},
   "outputs": [
    {
     "name": "stdout",
     "output_type": "stream",
     "text": [
      "Data cleaning and type conversion complete.\n",
      "Training labels distribution:\n",
      "class\n",
      "0    59000\n",
      "1     1000\n",
      "Name: count, dtype: int64\n",
      "Test labels distribution:\n",
      "class\n",
      "0    15625\n",
      "1      375\n",
      "Name: count, dtype: int64\n"
     ]
    }
   ],
   "source": [
    "train_df.replace('na', np.nan, inplace=True)\n",
    "test_df.replace('na', np.nan, inplace=True)\n",
    "\n",
    "numeric_cols = train_df.columns[1:]\n",
    "train_df[numeric_cols] = train_df[numeric_cols].astype(float)\n",
    "test_df[numeric_cols] = test_df[numeric_cols].astype(float)\n",
    "\n",
    "train_df.fillna(train_df.median(numeric_only=True), inplace=True)\n",
    "test_df.fillna(train_df.median(numeric_only=True), inplace=True)\n",
    "\n",
    "train_df['class'] = train_df['class'].map({'neg': 0, 'pos': 1})\n",
    "test_df['class'] = test_df['class'].map({'neg': 0, 'pos': 1})\n",
    "\n",
    "\n",
    "print(\"Data cleaning and type conversion complete.\")\n",
    "print(f\"Training labels distribution:\\n{train_df['class'].value_counts()}\")\n",
    "print(f\"Test labels distribution:\\n{test_df['class'].value_counts()}\")\n"
   ]
  },
  {
   "cell_type": "markdown",
   "id": "4e4c6e17-a5ee-4ec8-8a2e-a8bb0a911f8e",
   "metadata": {},
   "source": [
    "<h2>Define labels"
   ]
  },
  {
   "cell_type": "code",
   "execution_count": 4,
   "id": "f95a973f-6c0b-4e16-9afe-271bf541b530",
   "metadata": {},
   "outputs": [
    {
     "name": "stdout",
     "output_type": "stream",
     "text": [
      "Features and labels defined. Training samples: 60000, Features: 170\n"
     ]
    }
   ],
   "source": [
    "X_train = train_df.drop('class', axis=1)\n",
    "y_train = train_df['class']\n",
    "X_test = test_df.drop('class', axis=1)\n",
    "y_test = test_df['class']\n",
    "\n",
    "print(f\"Features and labels defined. Training samples: {X_train.shape[0]}, Features: {X_train.shape[1]}\")"
   ]
  },
  {
   "cell_type": "markdown",
   "id": "d5e878a7-fd7c-438c-ac88-e819c1398dc8",
   "metadata": {},
   "source": [
    "<h2>Model Training"
   ]
  },
  {
   "cell_type": "code",
   "execution_count": 5,
   "id": "771cd5d7-f016-414f-a3ca-bfe0fe4460a4",
   "metadata": {},
   "outputs": [
    {
     "name": "stdout",
     "output_type": "stream",
     "text": [
      "starting model training... (this may take a while)\n",
      "Logistic Regression model trained successfully in 279.11 seconds.\n"
     ]
    }
   ],
   "source": [
    "import time\n",
    "\n",
    "print(\"starting model training... (this may take a while)\")\n",
    "start_time = time.time()\n",
    "\n",
    "model = LogisticRegression(class_weight={0: 1, 1: 50}, max_iter=1000, solver='liblinear')\n",
    "model.fit(X_train, y_train)\n",
    "\n",
    "end_time = time.time()\n",
    "elapsed_time = end_time - start_time\n",
    "\n",
    "print(f\"Logistic Regression model trained successfully in {elapsed_time:.2f} seconds.\")"
   ]
  },
  {
   "cell_type": "markdown",
   "id": "f34c0dab-a61a-4037-b9b5-b4780711a0d9",
   "metadata": {},
   "source": [
    "<h2>Evaluation"
   ]
  },
  {
   "cell_type": "code",
   "execution_count": 6,
   "id": "5839c815-57df-4e28-be09-8c311bc08f41",
   "metadata": {},
   "outputs": [
    {
     "data": {
      "image/png": "[encoded data removed]",
      "text/plain": [
       "<Figure size 640x480 with 2 Axes>"
      ]
     },
     "metadata": {},
     "output_type": "display_data"
    },
    {
     "name": "stdout",
     "output_type": "stream",
     "text": [
      "              precision    recall  f1-score   support\n",
      "\n",
      "           0       1.00      0.98      0.99     15625\n",
      "           1       0.51      0.91      0.66       375\n",
      "\n",
      "    accuracy                           0.98     16000\n",
      "   macro avg       0.76      0.95      0.82     16000\n",
      "weighted avg       0.99      0.98      0.98     16000\n",
      "\n",
      "Type 1 Cost: 3240\n",
      "Type 2 Cost: 16000\n",
      "Total Cost: 19240\n"
     ]
    }
   ],
   "source": [
    "y_pred = model.predict(X_test)\n",
    "cm = confusion_matrix(y_test, y_pred)\n",
    "\n",
    "sns.heatmap(cm, annot=True, fmt='d')\n",
    "plt.show()\n",
    "\n",
    "print(classification_report(y_test, y_pred))\n",
    "\n",
    "cost_1 = 10\n",
    "cost_2 = 500\n",
    "type_1_errors = cm[0, 1]\n",
    "type_2_errors = cm[1, 0]\n",
    "total_cost = cost_1 * type_1_errors + cost_2 * type_2_errors\n",
    "\n",
    "print(f'Type 1 Cost: {type_1_errors * cost_1}')\n",
    "print(f'Type 2 Cost: {type_2_errors * cost_2}')\n",
    "print(f'Total Cost: {total_cost}')"
   ]
  },
  {
   "cell_type": "code",
   "execution_count": 7,
   "id": "dcd1ba8d-d0eb-4bb2-bf1e-e452bf6b70ef",
   "metadata": {},
   "outputs": [
    {
     "data": {
      "image/png": "[encoded data removed]",
      "text/plain": [
       "<Figure size 640x480 with 2 Axes>"
      ]
     },
     "metadata": {},
     "output_type": "display_data"
    },
    {
     "name": "stdout",
     "output_type": "stream",
     "text": [
      "Random Forest model evaluation complete. Classification report:\n",
      "              precision    recall  f1-score   support\n",
      "\n",
      "           0       0.99      1.00      0.99     15625\n",
      "           1       0.94      0.58      0.72       375\n",
      "\n",
      "    accuracy                           0.99     16000\n",
      "   macro avg       0.96      0.79      0.86     16000\n",
      "weighted avg       0.99      0.99      0.99     16000\n",
      "\n",
      "Random Forest Type 1 Cost: 140\n",
      "Random Forest Type 2 Cost: 78500\n",
      "Random Forest Total Cost: 78640\n"
     ]
    }
   ],
   "source": [
    "rf_model = RandomForestClassifier(class_weight={0: 1, 1: 50}, n_estimators=100, random_state=42)\n",
    "rf_model.fit(X_train, y_train)\n",
    "\n",
    "y_pred_rf = rf_model.predict(X_test)\n",
    "cm_rf = confusion_matrix(y_test, y_pred_rf)\n",
    "\n",
    "sns.heatmap(cm_rf, annot=True, fmt='d')\n",
    "plt.title(\"Random Forest Confusion Matrix\")\n",
    "plt.show()\n",
    "\n",
    "print(\"Random Forest model evaluation complete. Classification report:\")\n",
    "print(classification_report(y_test, y_pred_rf))\n",
    "\n",
    "type_1_errors_rf = cm_rf[0, 1]\n",
    "type_2_errors_rf = cm_rf[1, 0]\n",
    "total_cost_rf = cost_1 * type_1_errors_rf + cost_2 * type_2_errors_rf\n",
    "\n",
    "print(f\"Random Forest Type 1 Cost: {type_1_errors_rf * cost_1}\")\n",
    "print(f\"Random Forest Type 2 Cost: {type_2_errors_rf * cost_2}\")\n",
    "print(f\"✅ Random Forest Total Cost: {total_cost_rf}\")"
   ]
  },
  {
   "cell_type": "markdown",
   "id": "4ea74504-a466-480d-bc93-6214d9ece4a4",
   "metadata": {},
   "source": [
    "<h2>Model Performance"
   ]
  },
  {
   "cell_type": "markdown",
   "id": "14529faf-4b51-4fc3-af08-41a5ed2e11fe",
   "metadata": {},
   "source": [
    "**Logistic Regression**\n",
    "\n",
    "High accuracy (98%), but much lower precision and recall for the minority class (positive / failure).\n",
    "\n",
    "Recall for failure detection: 91%, meaning it catches most failures.\n",
    "\n",
    "Precision for failure detection: 51%, meaning nearly half of its failure predictions are false alarms.\n",
    "\n",
    "**Random Forest**\n",
    "\n",
    "Higher precision (94%), but much lower recall (58%) for the positive class.\n",
    "\n",
    "It is more conservative and misses more failures, but fewer false alarms."
   ]
  },
  {
   "cell_type": "markdown",
   "id": "efb52f05-8705-42fe-90d8-e05240f78455",
   "metadata": {},
   "source": [
    "<h2>Cost Analysis"
   ]
  },
  {
   "cell_type": "markdown",
   "id": "cf3fc41e-231c-441c-aece-c4146071dace",
   "metadata": {},
   "source": [
    "**Logistic Regression Total Cost: 19,240**\n",
    "\n",
    "Type 1 (False Positives): 3,240\n",
    "\n",
    "Type 2 (False Negatives): 16,000\n",
    "\n",
    "**Random Forest Total Cost: 78,640**\n",
    "\n",
    "Type 1 (False Positives): 140\n",
    "\n",
    "Type 2 (False Negatives): 78,500"
   ]
  },
  {
   "cell_type": "code",
   "execution_count": null,
   "id": "5b12155b-9d71-48da-89dd-b8b609a78f58",
   "metadata": {},
   "outputs": [],
   "source": []
  },
  {
   "cell_type": "code",
   "execution_count": null,
   "id": "2ec085d2-67e9-4cda-810e-b98d0cd9236c",
   "metadata": {},
   "outputs": [],
   "source": []
  }
 ],
 "metadata": {
  "kernelspec": {
   "display_name": "Python 3 (venv)",
   "language": "python",
   "name": "venv"
  },
  "language_info": {
   "codemirror_mode": {
    "name": "ipython",
    "version": 3
   },
   "file_extension": ".py",
   "mimetype": "text/x-python",
   "name": "python",
   "nbconvert_exporter": "python",
   "pygments_lexer": "ipython3",
   "version": "3.12.5"
  }
 },
 "nbformat": 4,
 "nbformat_minor": 5
}
